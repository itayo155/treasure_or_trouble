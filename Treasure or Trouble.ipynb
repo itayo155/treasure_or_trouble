{
 "cells": [
  {
   "cell_type": "code",
   "execution_count": 1,
   "metadata": {
    "collapsed": true
   },
   "outputs": [],
   "source": [
    "import numpy as np\n",
    "import numpy.random as rnd\n",
    "import collections\n",
    "from enum import Enum"
   ]
  },
  {
   "cell_type": "code",
   "execution_count": null,
   "metadata": {
    "collapsed": true
   },
   "outputs": [],
   "source": []
  },
  {
   "cell_type": "code",
   "execution_count": 2,
   "metadata": {
    "collapsed": true
   },
   "outputs": [],
   "source": [
    "\n",
    "\n",
    "def dice():\n",
    "    vals = ['skull', 'coin', 'diamond', 'parrot', 'monkey', 'sword']\n",
    "    return vals[rnd.choice(5)]\n",
    "\n",
    "def card():\n",
    "    return naive_card()\n",
    "\n",
    "def naive_card():\n",
    "    all_cards = []\n",
    "    return all_cards[rnd.choice(len(all_cards) - 1)]"
   ]
  },
  {
   "cell_type": "code",
   "execution_count": 3,
   "metadata": {
    "collapsed": true
   },
   "outputs": [],
   "source": [
    "class Game():\n",
    "    def __init__(self, players = 2):        \n",
    "        self.players = players\n",
    "        self.scores = [0] * players\n",
    "        self.turn = 0\n",
    "        self.dice_count = 8\n",
    "    \n",
    "    def to_string(self):\n",
    "        return '# scores: %s' % (self.scores)\n",
    "\n",
    "    "
   ]
  },
  {
   "cell_type": "code",
   "execution_count": 4,
   "metadata": {
    "collapsed": true
   },
   "outputs": [],
   "source": [
    "class Card_Values(Enum):\n",
    "        SORCERESS = 0\n",
    "        PARROTS_AND_MONKEYS = 1\n",
    "        CAPTAIN = 2\n",
    "        SEA_BATTLE = 3\n",
    "        COIN = 4\n",
    "        DIAMOND = 5\n",
    "        SKULL = 6\n",
    "        TWO_SKULLS = 6\n",
    "        CHEST = 7"
   ]
  },
  {
   "cell_type": "code",
   "execution_count": 7,
   "metadata": {
    "collapsed": true
   },
   "outputs": [],
   "source": [
    "class Dice_Values(Enum):\n",
    "    SKULL = 0\n",
    "    COIN = 1\n",
    "    DIAMOND = 2\n",
    "    PARROT = 3\n",
    "    MONKEY = 4\n",
    "    SWORD = 5\n",
    "\n",
    "class Dices():\n",
    "    def __init__(self, count = 8):\n",
    "        self.dice_count = count\n",
    "        self.dice_values = [None] * count\n",
    "        \n",
    "        self._all_dice_vals = [d for d in Dice_Values]\n",
    "    \n",
    "    def get_current(self):\n",
    "        #return a copy\n",
    "        return [x for x in self.dice_values]\n",
    "    \n",
    "    def get_current_as_str(self):\n",
    "        #return a copy\n",
    "        return [x.name for x in self.dice_values]\n",
    "    \n",
    "    def roll(self, indexes = None):\n",
    "        if (indexes is None):\n",
    "            indexes = range(self.dice_count)\n",
    "        \n",
    "        for idx in indexes:\n",
    "            v = self._single_roll()\n",
    "            self.dice_values[idx] = v\n",
    "            \n",
    "        return self\n",
    "    \n",
    "    def _single_roll(self):        \n",
    "        return self._all_dice_vals[rnd.choice(6)]    \n",
    "    \n",
    "    def to_string(self):\n",
    "        return '%s' % (str([x.name for x in self.get_current()]))\n",
    "\n",
    "\n",
    "\n",
    "#test partial roll\n",
    "d = Dices()\n",
    "\n",
    "idx = [0,1,2,4]\n",
    "anti_idx = [x for x in range(8) if x not in idx]\n",
    "for i in range(10):\n",
    "    vals = d.roll().get_current()\n",
    "    partial_roll = d.roll(idx).get_current()\n",
    "    assert all([vals[i] == partial_roll[i] for i in anti_idx ])\n",
    "\n"
   ]
  },
  {
   "cell_type": "code",
   "execution_count": 8,
   "metadata": {},
   "outputs": [
    {
     "data": {
      "text/plain": [
       "['MONKEY', 'MONKEY', 'MONKEY', 'SWORD', 'SKULL', 'SWORD', 'SWORD', 'DIAMOND']"
      ]
     },
     "execution_count": 8,
     "metadata": {},
     "output_type": "execute_result"
    }
   ],
   "source": [
    "d.roll().get_current_as_str()"
   ]
  },
  {
   "cell_type": "code",
   "execution_count": 9,
   "metadata": {
    "collapsed": true,
    "scrolled": true
   },
   "outputs": [],
   "source": [
    "class Scoring():\n",
    "    def __init__(self, dice_values, card = None, dice_count = 8):\n",
    "        \n",
    "        self.dice_values = self._convert_dices_to_enum(dice_values)\n",
    "        self.card = self._convert_card_to_enum(card)\n",
    "        self._dice_count = dice_count\n",
    "        \n",
    "        self._scores_by_count = {3: 100, 4: 200, 5: 500, 6: 1000, 7: 2000, 8: 4000}\n",
    "        self._full_chest = 500\n",
    "        self._valuables = {Dice_Values.COIN: 100, Dice_Values.DIAMOND: 100}\n",
    "        self._dice_used = set() #used for full-chest scoring\n",
    "    \n",
    "    def _convert_dices_to_enum(self, dice_values):\n",
    "        return [x if x in Dice_Values else Dice_Values[x.upper()] for x in dice_values]\n",
    "    \n",
    "    def _convert_card_to_enum(self, card):\n",
    "        if (card is None):\n",
    "            return None\n",
    "        \n",
    "        return card if card in Card_Values else Card_Values[card.upper()]\n",
    "        \n",
    "    def _add_card_to_dice(self):\n",
    "        values = self.dice_values\n",
    "        \n",
    "        if (self.card == Card_Values.COIN):\n",
    "            values += Dice_Values.COIN\n",
    "        elif (self.card ==  Card_Values.DIAMOND):\n",
    "            values += Dice_Values.DIAMOND\n",
    "        elif (self.card ==  Card_Values.SKULL):\n",
    "            values += Dice_Values.SKULL\n",
    "        elif (self.card ==  Card_Values.TWO_SKULLS):\n",
    "            values += [Dice_Values.SKULL] * 2\n",
    "            \n",
    "        return values\n",
    "    \n",
    "    def is_disqualified(self):\n",
    "        return len([x for x in self.dice_values if x == Dice_Values.SKULL]) >= 3\n",
    "        \n",
    "    def score(self):\n",
    "        self.dice_values = self._add_card_to_dice()\n",
    "        \n",
    "        if (self.is_disqualified()):\n",
    "            return 0\n",
    "            \n",
    "        score = self._score_by_groups() \\\n",
    "                + self._score_by_valuables() \\\n",
    "                + self._score_by_full_chest() \\\n",
    "                + self._score_by_sea_battle()\n",
    "                \n",
    "        \n",
    "        coef = 2. if (self.card == Card_Values.CAPTAIN) else 1.\n",
    "        \n",
    "        return coef * score\n",
    "    \n",
    "    def _score_by_valuables(self):\n",
    "        dice_used = {i for i,v in enumerate(self.dice_values) if v in self._valuables}\n",
    "        self._dice_used |= dice_used\n",
    "        \n",
    "        return sum([self._valuables.get(x, 0) for x in self.dice_values])\n",
    "    \n",
    "    def _score_by_groups(self):\n",
    "        \n",
    "        if (self.card == Card_Values.PARROTS_AND_MONKEYS):\n",
    "            self.dice_values = [Dice_Values.MONKEY if x == Dice_Values.PARROT else x for x in self.dice_values]\n",
    "                    \n",
    "        counts = collections.Counter(self.dice_values)\n",
    "        groups_used = {k: v for k,v in counts.items() if v >= 3}\n",
    "        dice_used = {i for i,v in enumerate(self.dice_values) if v in groups_used}\n",
    "        self._dice_used |= dice_used        \n",
    "        \n",
    "        return sum([self._scores_by_count.get(v, 0) for k,v in counts.items()])\n",
    "    \n",
    "    #must be called after other scoring methods\n",
    "    def _score_by_full_chest(self):\n",
    "        if (len(self._dice_used) >= self._dice_count):\n",
    "            return self._full_chest\n",
    "        \n",
    "        return 0\n",
    "    \n",
    "    #should be here? not sure.\n",
    "    def _score_by_sea_battle(self):\n",
    "        #ToDo\n",
    "        return 0\n",
    "        \n",
    "\n",
    "\n",
    "\n",
    "#nothing\n",
    "assert Scoring(['parrot', 'parrot', 'monkey', 'monkey']).score() == 0.0\n",
    "#parrots and monkeys\n",
    "assert Scoring(['parrot', 'parrot', 'monkey', 'monkey'], 'parrots_and_monkeys').score() == 200.0\n",
    "#captain\n",
    "assert Scoring(['sword', 'sword', 'sword', 'sword'], 'captain').score() == 400.0\n",
    "#coin, diamond\n",
    "assert Scoring(['sword', 'sword', 'sword', 'sword', 'diamond', 'coin'], 'captain').score() == 800.0\n",
    "#skulls\n",
    "assert Scoring(['sword', 'sword', 'skull', 'sword', 'skull', 'coin', 'skull'], 'captain').score() == 0.0\n",
    "#full chest control\n",
    "assert Scoring(['sword', 'sword', 'sword', 'sword', 'coin', 'coin', 'diamond', 'monkey'], None).score() == 500.0\n",
    "#Full chest\n",
    "assert Scoring(['sword', 'sword', 'sword', 'sword', 'coin', 'coin', 'diamond', 'diamond'], None).score() == 1100.0"
   ]
  },
  {
   "cell_type": "code",
   "execution_count": 10,
   "metadata": {},
   "outputs": [
    {
     "data": {
      "text/plain": [
       "'# scores: [0, 0]'"
      ]
     },
     "execution_count": 10,
     "metadata": {},
     "output_type": "execute_result"
    }
   ],
   "source": [
    "g = Game()\n",
    "g.to_string()"
   ]
  }
 ],
 "metadata": {
  "kernelspec": {
   "display_name": "Python 3",
   "language": "python",
   "name": "python3"
  },
  "language_info": {
   "codemirror_mode": {
    "name": "ipython",
    "version": 3
   },
   "file_extension": ".py",
   "mimetype": "text/x-python",
   "name": "python",
   "nbconvert_exporter": "python",
   "pygments_lexer": "ipython3",
   "version": "3.5.3"
  }
 },
 "nbformat": 4,
 "nbformat_minor": 2
}
