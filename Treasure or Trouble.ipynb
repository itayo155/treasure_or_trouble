{
 "cells": [
  {
   "cell_type": "code",
   "execution_count": 4,
   "metadata": {
    "collapsed": true
   },
   "outputs": [],
   "source": [
    "import numpy as np\n",
    "import numpy.random as rnd\n",
    "import collections\n",
    "from enum import Enum"
   ]
  },
  {
   "cell_type": "code",
   "execution_count": 12,
   "metadata": {
    "collapsed": true
   },
   "outputs": [],
   "source": [
    "\n",
    "\n",
    "# def dice():\n",
    "#     vals = ['skull', 'coin', 'diamond', 'parrot', 'monkey', 'sword']\n",
    "#     return vals[rnd.choice(5)]\n",
    "\n",
    "# def card():\n",
    "#     return naive_card()\n",
    "\n",
    "# def naive_card():\n",
    "#     all_cards = []\n",
    "#     return all_cards[rnd.choice(len(all_cards) - 1)]"
   ]
  },
  {
   "cell_type": "code",
   "execution_count": 90,
   "metadata": {},
   "outputs": [
    {
     "ename": "AttributeError",
     "evalue": "'Random_Player' object has no attribute 'get_dice_to_roll'",
     "output_type": "error",
     "traceback": [
      "\u001b[0;31m---------------------------------------------------------------------------\u001b[0m",
      "\u001b[0;31mAttributeError\u001b[0m                            Traceback (most recent call last)",
      "\u001b[0;32m<ipython-input-90-a508059dd6ba>\u001b[0m in \u001b[0;36m<module>\u001b[0;34m()\u001b[0m\n\u001b[1;32m     25\u001b[0m \u001b[0mp\u001b[0m \u001b[0;34m=\u001b[0m \u001b[0mRandom_Player\u001b[0m\u001b[0;34m(\u001b[0m\u001b[0;34m)\u001b[0m\u001b[0;34m\u001b[0m\u001b[0m\n\u001b[1;32m     26\u001b[0m \u001b[0mgs\u001b[0m \u001b[0;34m=\u001b[0m \u001b[0mGame_State\u001b[0m\u001b[0;34m(\u001b[0m\u001b[0mDices\u001b[0m\u001b[0;34m(\u001b[0m\u001b[0;34m)\u001b[0m\u001b[0;34m.\u001b[0m\u001b[0mroll\u001b[0m\u001b[0;34m(\u001b[0m\u001b[0;34m)\u001b[0m\u001b[0;34m.\u001b[0m\u001b[0mget_current\u001b[0m\u001b[0;34m(\u001b[0m\u001b[0;34m)\u001b[0m\u001b[0;34m,\u001b[0m \u001b[0;32mNone\u001b[0m\u001b[0;34m)\u001b[0m\u001b[0;34m\u001b[0m\u001b[0m\n\u001b[0;32m---> 27\u001b[0;31m \u001b[0mprint\u001b[0m\u001b[0;34m(\u001b[0m\u001b[0mp\u001b[0m\u001b[0;34m.\u001b[0m\u001b[0mget_dice_to_roll\u001b[0m\u001b[0;34m(\u001b[0m\u001b[0mgs\u001b[0m\u001b[0;34m)\u001b[0m\u001b[0;34m)\u001b[0m\u001b[0;34m\u001b[0m\u001b[0m\n\u001b[0m\u001b[1;32m     28\u001b[0m \u001b[0;34m\u001b[0m\u001b[0m\n\u001b[1;32m     29\u001b[0m \u001b[0;34m\u001b[0m\u001b[0m\n",
      "\u001b[0;31mAttributeError\u001b[0m: 'Random_Player' object has no attribute 'get_dice_to_roll'"
     ]
    }
   ],
   "source": [
    "class Player():\n",
    "    def __init__():\n",
    "        return\n",
    "    \n",
    "    #return None to end turn\n",
    "    def get_dices_to_roll(game_state):\n",
    "        return None\n",
    "    \n",
    "    #ToDo: allow returning what to put in the chest\n",
    "\n",
    "class Random_Player(Player):\n",
    "    def __init__(self):\n",
    "        self._p_end_turn = 0.3\n",
    "        self._p_reroll = 0.33\n",
    "        return\n",
    "    \n",
    "    #return Noneor empty array to end turn\n",
    "    def get_dices_to_roll(self, game_state):\n",
    "        if (rnd.rand() < self._p_end_turn):\n",
    "            return None\n",
    "        \n",
    "        reroll = [i for i,v in enumerate(game_state.dice_values) if ((v != Dice_Values.SKULL) and (rnd.rand() < self._p_reroll))]\n",
    "        return reroll\n",
    "\n",
    "p = Random_Player()\n",
    "gs = Game_State(Dices().roll().get_current(), None)\n",
    "print(p.get_dice_to_roll(gs))\n",
    "    \n",
    "    "
   ]
  },
  {
   "cell_type": "code",
   "execution_count": 93,
   "metadata": {},
   "outputs": [
    {
     "name": "stdout",
     "output_type": "stream",
     "text": [
      "card=SEA_BATTLE, rolls = 0, history=[]\n",
      "dbg: endo of turn by player\n",
      "dbg: play\n"
     ]
    },
    {
     "data": {
      "text/plain": [
       "300.0"
      ]
     },
     "execution_count": 93,
     "metadata": {},
     "output_type": "execute_result"
    }
   ],
   "source": [
    "class Player_Turn():\n",
    "    def __init__(self, game, player_idx):\n",
    "        self.game = game\n",
    "        self.player = game.players[player_idx]\n",
    "        self.card = game.get_card_from_deck()\n",
    "        self.rolls = 0\n",
    "        self._skull_rerolls_remaining = self.get_allowed_skull_rerolls()\n",
    "        self._skulls_to_end_of_turn = 3\n",
    "        \n",
    "        self.dice_history = []\n",
    "        \n",
    "    def get_allowed_skull_rerolls(self):\n",
    "        if (self.card == Card_Values.SORCERESS):\n",
    "            return 1\n",
    "        \n",
    "        return 0\n",
    "    \n",
    "    #i.e. with card\n",
    "    def get_effective_dice_values(self):        \n",
    "        return self.game.dices.get_current() + Cards().to_dice_array(self.card)\n",
    "            \n",
    "    def has_turn_ended(self):\n",
    "        dice_values = self.get_effective_dice_values()\n",
    "        dice_counts = collections.Counter(dice_values)\n",
    "        \n",
    "        if (dice_counts.get(Dice_Values.SKULL, 0) - self._skull_rerolls_remaining > self._skulls_to_end_of_turn):\n",
    "            return True\n",
    "        \n",
    "        return False\n",
    "        \n",
    "    #ToDo\n",
    "    def is_valid_reroll(self, to_reroll):\n",
    "        return True\n",
    "    \n",
    "    def play(self):\n",
    "        self.game.dices.roll()\n",
    "        \n",
    "        self.dice_history.append(self.game.dices.get_current())\n",
    "        \n",
    "        #ToDo: handle island-of-the-dead\n",
    "        turn_ended = self.has_turn_ended()\n",
    "        \n",
    "        while (not turn_ended):\n",
    "            game_state = Game_State(self.game.dices.get_current(), self.card)\n",
    "            to_reroll = self.player.get_dices_to_roll(game_state)\n",
    "            if ((to_reroll is None) or (len(to_reroll) == 0)):\n",
    "                print('dbg: endo of turn by player')\n",
    "                turn_ended = True\n",
    "            if (self.is_valid_reroll(to_reroll)):\n",
    "                self.game.dices.roll(to_reroll)\n",
    "                self.dice_history.append(self.game.dices.get_current())\n",
    "                self.rolls += 1\n",
    "            else:\n",
    "                print('dbg: error: invalid request to reroll (%s), ending turn' % (str(to_reroll)))\n",
    "                turn_ended = True\n",
    "                \n",
    "        #turn ended\n",
    "        score = Scoring(self.game.dices.get_current(), self.card).score()\n",
    "        print('dbg: play')\n",
    "        return score\n",
    "        \n",
    "    \n",
    "    def to_string(self):\n",
    "        return 'card=%s, rolls = %d, history=%s' % (self.card.name, self.rolls, self.dice_history)\n",
    "        \n",
    "g = Game()\n",
    "# p = Random_Player()\n",
    "trn = Player_Turn(g, 0)\n",
    "print(trn.to_string())\n",
    "trn.play()\n",
    "        "
   ]
  },
  {
   "cell_type": "code",
   "execution_count": 64,
   "metadata": {},
   "outputs": [
    {
     "data": {
      "text/plain": [
       "<__main__.Player_Turn at 0x7f0d88006470>"
      ]
     },
     "execution_count": 64,
     "metadata": {},
     "output_type": "execute_result"
    }
   ],
   "source": [
    "trn"
   ]
  },
  {
   "cell_type": "code",
   "execution_count": 18,
   "metadata": {
    "collapsed": true
   },
   "outputs": [],
   "source": [
    "class Game_State():\n",
    "    def __init__(self, dice_values, card):\n",
    "        self.dice_values = dice_values\n",
    "        self.card = card"
   ]
  },
  {
   "cell_type": "code",
   "execution_count": 80,
   "metadata": {},
   "outputs": [],
   "source": [
    "class Game():\n",
    "    def __init__(self, players = 2):        \n",
    "        self._dice_count = 8\n",
    "        \n",
    "        self.player_count = players\n",
    "        self.scores = [0] * players\n",
    "        self.turn = 0\n",
    "                \n",
    "        self.dices = Dices(self._dice_count)\n",
    "        self.players = self.create_players(players)\n",
    "        \n",
    "        self._goal = 8000\n",
    "        self._current_player_rolls = 0\n",
    "        \n",
    "    def create_players(self, count):\n",
    "        return [Random_Player() for x in range(count)]\n",
    "        \n",
    "    def get_card_from_deck(self):\n",
    "        #ToDo: make it better\n",
    "        card_values = [x for x in Card_Values]\n",
    "        return card_values[rnd.choice(len(card_values))]\n",
    "    \n",
    "    def roll(self, indexes):\n",
    "        return self.dices.roll(indexes)\n",
    "    \n",
    "    def to_string(self):\n",
    "        return 'turns: %d, scores: %s' % (self.turn, self.scores)\n",
    "    \n",
    "#     def play():\n",
    "        \n",
    "\n",
    "    "
   ]
  },
  {
   "cell_type": "code",
   "execution_count": 87,
   "metadata": {
    "collapsed": true
   },
   "outputs": [],
   "source": [
    "class Card_Values(Enum):\n",
    "        SORCERESS = 0\n",
    "        PARROTS_AND_MONKEYS = 1\n",
    "        CAPTAIN = 2\n",
    "        SEA_BATTLE = 3\n",
    "        COIN = 4\n",
    "        DIAMOND = 5\n",
    "        SKULL = 6\n",
    "        TWO_SKULLS = 6\n",
    "        CHEST = 7\n",
    "        \n",
    "class Cards():\n",
    "    def __init__(self):        \n",
    "        self.card_to_dice = {Card_Values.COIN: [Dice_Values.COIN], \n",
    "                                 Card_Values.DIAMOND: [Dice_Values.DIAMOND],\n",
    "                                 Card_Values.SKULL: [Dice_Values.SKULL], \n",
    "                                 Card_Values.TWO_SKULLS: [Dice_Values.SKULL, Dice_Values.SKULL]}\n",
    "   \n",
    "    def to_dice_array(self, card):\n",
    "        return self.card_to_dice.get(card, [])\n",
    "    \n",
    "    "
   ]
  },
  {
   "cell_type": "code",
   "execution_count": 53,
   "metadata": {
    "collapsed": true
   },
   "outputs": [],
   "source": [
    "class Dice_Values(Enum):\n",
    "    SKULL = 0\n",
    "    COIN = 1\n",
    "    DIAMOND = 2\n",
    "    PARROT = 3\n",
    "    MONKEY = 4\n",
    "    SWORD = 5\n",
    "\n",
    "class Dices():\n",
    "    def __init__(self, count = 8):\n",
    "        self.dice_count = count\n",
    "        self.dice_values = [None] * count\n",
    "        self.skulls_rerolled = 0\n",
    "        \n",
    "        self._all_dice_vals = [d for d in Dice_Values]\n",
    "        \n",
    "    \n",
    "    def get_current(self):\n",
    "        #return a copy\n",
    "        return [x for x in self.dice_values]\n",
    "    \n",
    "    def get_current_as_str(self):\n",
    "        #return a copy\n",
    "        return [x.name for x in self.dice_values]\n",
    "    \n",
    "    def roll(self, indexes = None):\n",
    "        if (indexes is None):\n",
    "            indexes = range(self.dice_count)\n",
    "        \n",
    "        for idx in indexes:\n",
    "            if (self.dice_values[idx] == Dice_Values.SKULL):\n",
    "                self.skulls_rerolled += 1\n",
    "                \n",
    "            v = self._single_roll()\n",
    "            self.dice_values[idx] = v\n",
    "            \n",
    "        return self\n",
    "    \n",
    "    def _single_roll(self):        \n",
    "        return self._all_dice_vals[rnd.choice(6)]    \n",
    "    \n",
    "    def to_string(self):\n",
    "        return '%s' % (str([x.name for x in self.get_current()]))\n",
    "\n",
    "\n",
    "\n",
    "#test partial roll\n",
    "d = Dices()\n",
    "\n",
    "idx = [0,1,2,4]\n",
    "anti_idx = [x for x in range(8) if x not in idx]\n",
    "for i in range(10):\n",
    "    vals = d.roll().get_current()\n",
    "    partial_roll = d.roll(idx).get_current()\n",
    "    assert all([vals[i] == partial_roll[i] for i in anti_idx ])\n",
    "\n"
   ]
  },
  {
   "cell_type": "code",
   "execution_count": 9,
   "metadata": {},
   "outputs": [
    {
     "data": {
      "text/plain": [
       "['SWORD', 'SWORD', 'DIAMOND', 'SWORD', 'MONKEY', 'SKULL', 'MONKEY', 'PARROT']"
      ]
     },
     "execution_count": 9,
     "metadata": {},
     "output_type": "execute_result"
    }
   ],
   "source": [
    "d.roll().get_current_as_str()"
   ]
  },
  {
   "cell_type": "code",
   "execution_count": 10,
   "metadata": {
    "collapsed": true,
    "scrolled": true
   },
   "outputs": [],
   "source": [
    "class Scoring():\n",
    "    def __init__(self, dice_values, card = None, dice_count = 8):\n",
    "        \n",
    "        self.dice_values = self._convert_dices_to_enum(dice_values)\n",
    "        self.card = self._convert_card_to_enum(card)\n",
    "        self._dice_count = dice_count\n",
    "        \n",
    "        self._scores_by_count = {3: 100, 4: 200, 5: 500, 6: 1000, 7: 2000, 8: 4000}\n",
    "        self._full_chest = 500\n",
    "        self._valuables = {Dice_Values.COIN: 100, Dice_Values.DIAMOND: 100}\n",
    "        self._dice_used = set() #used for full-chest scoring\n",
    "    \n",
    "    def _convert_dices_to_enum(self, dice_values):\n",
    "        return [x if x in Dice_Values else Dice_Values[x.upper()] for x in dice_values]\n",
    "    \n",
    "    def _convert_card_to_enum(self, card):\n",
    "        if (card is None):\n",
    "            return None\n",
    "        \n",
    "        return card if card in Card_Values else Card_Values[card.upper()]\n",
    "        \n",
    "    def _add_card_to_dice(self):\n",
    "        values = self.dice_values\n",
    "        \n",
    "        if (self.card == Card_Values.COIN):\n",
    "            values += Dice_Values.COIN\n",
    "        elif (self.card ==  Card_Values.DIAMOND):\n",
    "            values += Dice_Values.DIAMOND\n",
    "        elif (self.card ==  Card_Values.SKULL):\n",
    "            values += Dice_Values.SKULL\n",
    "        elif (self.card ==  Card_Values.TWO_SKULLS):\n",
    "            values += [Dice_Values.SKULL] * 2\n",
    "            \n",
    "        return values\n",
    "    \n",
    "    def is_disqualified(self):\n",
    "        return len([x for x in self.dice_values if x == Dice_Values.SKULL]) >= 3\n",
    "        \n",
    "    def score(self):\n",
    "        self.dice_values = self._add_card_to_dice()\n",
    "        \n",
    "        if (self.is_disqualified()):\n",
    "            return 0\n",
    "            \n",
    "        score = self._score_by_groups() \\\n",
    "                + self._score_by_valuables() \\\n",
    "                + self._score_by_full_chest() \\\n",
    "                + self._score_by_sea_battle()\n",
    "                \n",
    "        \n",
    "        coef = 2. if (self.card == Card_Values.CAPTAIN) else 1.\n",
    "        \n",
    "        return coef * score\n",
    "    \n",
    "    def _score_by_valuables(self):\n",
    "        dice_used = {i for i,v in enumerate(self.dice_values) if v in self._valuables}\n",
    "        self._dice_used |= dice_used\n",
    "        \n",
    "        return sum([self._valuables.get(x, 0) for x in self.dice_values])\n",
    "    \n",
    "    def _score_by_groups(self):\n",
    "        \n",
    "        if (self.card == Card_Values.PARROTS_AND_MONKEYS):\n",
    "            self.dice_values = [Dice_Values.MONKEY if x == Dice_Values.PARROT else x for x in self.dice_values]\n",
    "                    \n",
    "        counts = collections.Counter(self.dice_values)\n",
    "        groups_used = {k: v for k,v in counts.items() if v >= 3}\n",
    "        dice_used = {i for i,v in enumerate(self.dice_values) if v in groups_used}\n",
    "        self._dice_used |= dice_used        \n",
    "        \n",
    "        return sum([self._scores_by_count.get(v, 0) for k,v in counts.items()])\n",
    "    \n",
    "    #must be called after other scoring methods\n",
    "    def _score_by_full_chest(self):\n",
    "        if (len(self._dice_used) >= self._dice_count):\n",
    "            return self._full_chest\n",
    "        \n",
    "        return 0\n",
    "    \n",
    "    #should be here? not sure.\n",
    "    def _score_by_sea_battle(self):\n",
    "        #ToDo\n",
    "        return 0\n",
    "        \n",
    "\n",
    "\n",
    "\n",
    "#nothing\n",
    "assert Scoring(['parrot', 'parrot', 'monkey', 'monkey']).score() == 0.0\n",
    "#parrots and monkeys\n",
    "assert Scoring(['parrot', 'parrot', 'monkey', 'monkey'], 'parrots_and_monkeys').score() == 200.0\n",
    "#captain\n",
    "assert Scoring(['sword', 'sword', 'sword', 'sword'], 'captain').score() == 400.0\n",
    "#coin, diamond\n",
    "assert Scoring(['sword', 'sword', 'sword', 'sword', 'diamond', 'coin'], 'captain').score() == 800.0\n",
    "#skulls\n",
    "assert Scoring(['sword', 'sword', 'skull', 'sword', 'skull', 'coin', 'skull'], 'captain').score() == 0.0\n",
    "#full chest control\n",
    "assert Scoring(['sword', 'sword', 'sword', 'sword', 'coin', 'coin', 'diamond', 'monkey'], None).score() == 500.0\n",
    "#Full chest\n",
    "assert Scoring(['sword', 'sword', 'sword', 'sword', 'coin', 'coin', 'diamond', 'diamond'], None).score() == 1100.0"
   ]
  },
  {
   "cell_type": "code",
   "execution_count": 11,
   "metadata": {},
   "outputs": [
    {
     "data": {
      "text/plain": [
       "'# scores: [0, 0]'"
      ]
     },
     "execution_count": 11,
     "metadata": {},
     "output_type": "execute_result"
    }
   ],
   "source": [
    "g = Game()\n",
    "g.to_string()"
   ]
  }
 ],
 "metadata": {
  "kernelspec": {
   "display_name": "Python 3",
   "language": "python",
   "name": "python3"
  },
  "language_info": {
   "codemirror_mode": {
    "name": "ipython",
    "version": 3
   },
   "file_extension": ".py",
   "mimetype": "text/x-python",
   "name": "python",
   "nbconvert_exporter": "python",
   "pygments_lexer": "ipython3",
   "version": "3.5.3"
  }
 },
 "nbformat": 4,
 "nbformat_minor": 2
}
