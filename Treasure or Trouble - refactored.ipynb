{
 "cells": [
  {
   "cell_type": "code",
   "execution_count": 2,
   "metadata": {
    "collapsed": true
   },
   "outputs": [],
   "source": [
    "import numpy as np\n",
    "# import numpy.random as rnd\n",
    "# import collections\n",
    "# from enum import Enum\n",
    "\n",
    "%matplotlib inline\n",
    "\n",
    "import matplotlib\n",
    "import matplotlib.pyplot as plt"
   ]
  },
  {
   "cell_type": "code",
   "execution_count": 3,
   "metadata": {
    "collapsed": true
   },
   "outputs": [],
   "source": [
    "from IPython.display import Markdown, display\n",
    "def printmd(string):\n",
    "    display(Markdown(string))"
   ]
  },
  {
   "cell_type": "code",
   "execution_count": 7,
   "metadata": {
    "collapsed": true
   },
   "outputs": [],
   "source": [
    "from Dice import Dices\n",
    "from GameState import Game_State\n",
    "from Game"
   ]
  },
  {
   "cell_type": "code",
   "execution_count": 5,
   "metadata": {
    "collapsed": true
   },
   "outputs": [],
   "source": [
    "\n",
    "\n",
    "#test partial roll\n",
    "d = Dices()\n",
    "\n",
    "idx = [0,1,2,4]\n",
    "anti_idx = [x for x in range(8) if x not in idx]\n",
    "for i in range(10):\n",
    "    vals = d.roll().get_current()\n",
    "    partial_roll = d.roll(idx).get_current()\n",
    "    assert all([vals[i] == partial_roll[i] for i in anti_idx ])\n",
    "\n"
   ]
  },
  {
   "cell_type": "code",
   "execution_count": 9,
   "metadata": {},
   "outputs": [
    {
     "ename": "NameError",
     "evalue": "name 'Game' is not defined",
     "output_type": "error",
     "traceback": [
      "\u001b[0;31m---------------------------------------------------------------------------\u001b[0m",
      "\u001b[0;31mNameError\u001b[0m                                 Traceback (most recent call last)",
      "\u001b[0;32m<ipython-input-9-ffbbe9f02276>\u001b[0m in \u001b[0;36m<module>\u001b[0;34m()\u001b[0m\n\u001b[1;32m      7\u001b[0m \u001b[0;34m\u001b[0m\u001b[0m\n\u001b[1;32m      8\u001b[0m \u001b[0mp\u001b[0m \u001b[0;34m=\u001b[0m \u001b[0mBasic_Player\u001b[0m\u001b[0;34m(\u001b[0m\u001b[0;34m)\u001b[0m\u001b[0;34m\u001b[0m\u001b[0m\n\u001b[0;32m----> 9\u001b[0;31m \u001b[0mg\u001b[0m \u001b[0;34m=\u001b[0m \u001b[0mGame\u001b[0m\u001b[0;34m(\u001b[0m\u001b[0;34m)\u001b[0m\u001b[0;34m\u001b[0m\u001b[0m\n\u001b[0m\u001b[1;32m     10\u001b[0m \u001b[0mcard\u001b[0m \u001b[0;34m=\u001b[0m \u001b[0mg\u001b[0m\u001b[0;34m.\u001b[0m\u001b[0mget_card_from_deck\u001b[0m\u001b[0;34m(\u001b[0m\u001b[0;34m)\u001b[0m\u001b[0;34m\u001b[0m\u001b[0m\n\u001b[1;32m     11\u001b[0m \u001b[0mdice_values\u001b[0m \u001b[0;34m=\u001b[0m \u001b[0mg\u001b[0m\u001b[0;34m.\u001b[0m\u001b[0mroll\u001b[0m\u001b[0;34m(\u001b[0m\u001b[0;34m)\u001b[0m\u001b[0;34m\u001b[0m\u001b[0m\n",
      "\u001b[0;31mNameError\u001b[0m: name 'Game' is not defined"
     ]
    }
   ],
   "source": [
    "from RandomPlayer import Random_Player\n",
    "from Basic_Player import Basic_Player\n",
    "\n",
    "p = Random_Player()\n",
    "gs = Game_State(Dices().roll().get_current(), None)\n",
    "p.get_dices_to_roll(gs)\n",
    "\n",
    "p = Basic_Player()\n",
    "g = Game()\n",
    "card = g.get_card_from_deck()\n",
    "dice_values = g.roll()\n",
    "\n",
    "gs = Game_State(dice_values.get_current(), card)\n",
    "reroll_idx = p.get_dices_to_roll(gs)\n",
    "dice_vals = dice_values.get_current_as_str()\n",
    "\n",
    "md_arr = [v if i not in reroll_idx else '**' + v + '**' for i,v in enumerate(dice_vals)]\n",
    "md_arr = [\"_\" + x + \"_\" if x == 'SKULL' else x for x in md_arr]\n",
    "print(card)\n",
    "print(reroll_idx)\n",
    "printmd(\",\".join(sorted(md_arr)))\n",
    "\n",
    "\n",
    "\n",
    "\n",
    "    \n",
    "    "
   ]
  },
  {
   "cell_type": "code",
   "execution_count": 8,
   "metadata": {
    "collapsed": true,
    "scrolled": true
   },
   "outputs": [],
   "source": [
    "class Scoring():\n",
    "    def __init__(self, dice_values, card = None, dice_count = 8):\n",
    "        \n",
    "        self.dice_values = self._convert_dices_to_enum(dice_values)\n",
    "        self.card = self._convert_card_to_enum(card)\n",
    "        self._dice_count = dice_count\n",
    "        \n",
    "        self._scores_by_count = {3: 100, 4: 200, 5: 500, 6: 1000, 7: 2000, 8: 4000}\n",
    "        self._full_chest = 500\n",
    "        self._valuables = {Dice_Values.COIN: 100, Dice_Values.DIAMOND: 100}\n",
    "        self._dice_used = set() #used for full-chest scoring\n",
    "    \n",
    "    def _convert_dices_to_enum(self, dice_values):\n",
    "        return [x if x in Dice_Values else Dice_Values[x.upper()] for x in dice_values]\n",
    "    \n",
    "    def _convert_card_to_enum(self, card):\n",
    "        if (card is None):\n",
    "            return None\n",
    "        \n",
    "        return card if card in Card_Values else Card_Values[card.upper()]\n",
    "        \n",
    "    def _add_card_to_dice(self):\n",
    "        return self.dice_values + Cards().to_dice_array(self.card)\n",
    "        \n",
    "    def is_disqualified(self):\n",
    "        return len([x for x in self.dice_values if x == Dice_Values.SKULL]) >= 3\n",
    "        \n",
    "    def score(self):\n",
    "        self.dice_values = self._add_card_to_dice()\n",
    "        \n",
    "        if (self.is_disqualified()):\n",
    "            return 0\n",
    "            \n",
    "        score = self._score_by_groups() \\\n",
    "                + self._score_by_valuables() \\\n",
    "                + self._score_by_full_chest() \\\n",
    "                + self._score_by_sea_battle()\n",
    "                \n",
    "        \n",
    "        coef = 2. if (self.card == Card_Values.CAPTAIN) else 1.\n",
    "        \n",
    "        return coef * score\n",
    "    \n",
    "    def _score_by_valuables(self):\n",
    "        dice_used = {i for i,v in enumerate(self.dice_values) if v in self._valuables}\n",
    "        self._dice_used |= dice_used\n",
    "        \n",
    "        return sum([self._valuables.get(x, 0) for x in self.dice_values])\n",
    "    \n",
    "    def _score_by_groups(self):\n",
    "        \n",
    "        if (self.card == Card_Values.PARROTS_AND_MONKEYS):\n",
    "            self.dice_values = [Dice_Values.MONKEY if x == Dice_Values.PARROT else x for x in self.dice_values]\n",
    "                    \n",
    "        counts = collections.Counter(self.dice_values)\n",
    "        groups_used = {k: v for k,v in counts.items() if v >= 3}\n",
    "        dice_used = {i for i,v in enumerate(self.dice_values) if v in groups_used}\n",
    "        self._dice_used |= dice_used        \n",
    "        \n",
    "        return sum([self._scores_by_count.get(v, 0) for k,v in counts.items()])\n",
    "    \n",
    "    #must be called after other scoring methods\n",
    "    def _score_by_full_chest(self):\n",
    "        if (len(self._dice_used) >= self._dice_count):\n",
    "            return self._full_chest\n",
    "        \n",
    "        return 0\n",
    "    \n",
    "    #should be here? not sure.\n",
    "    def _score_by_sea_battle(self):\n",
    "        #ToDo\n",
    "        return 0\n",
    "        \n",
    "\n",
    "\n",
    "\n",
    "#nothing\n",
    "assert Scoring(['parrot', 'parrot', 'monkey', 'monkey']).score() == 0.0\n",
    "#parrots and monkeys\n",
    "assert Scoring(['parrot', 'parrot', 'monkey', 'monkey'], 'parrots_and_monkeys').score() == 200.0\n",
    "#captain\n",
    "assert Scoring(['sword', 'sword', 'sword', 'sword'], 'captain').score() == 400.0\n",
    "#coin, diamond\n",
    "assert Scoring(['sword', 'sword', 'sword', 'sword', 'diamond', 'coin'], 'captain').score() == 800.0\n",
    "#skulls\n",
    "assert Scoring(['sword', 'sword', 'skull', 'sword', 'skull', 'coin', 'skull'], 'captain').score() == 0.0\n",
    "#full chest control\n",
    "assert Scoring(['sword', 'sword', 'sword', 'sword', 'coin', 'coin', 'diamond', 'monkey'], None).score() == 500.0\n",
    "#Full chest\n",
    "assert Scoring(['sword', 'sword', 'sword', 'sword', 'coin', 'coin', 'diamond', 'diamond'], None).score() == 1100.0"
   ]
  },
  {
   "cell_type": "code",
   "execution_count": 20,
   "metadata": {},
   "outputs": [
    {
     "name": "stdout",
     "output_type": "stream",
     "text": [
      "card=SKULL, rolls = 2, history=[['SWORD', 'PARROT', 'DIAMOND', 'PARROT', 'DIAMOND', 'MONKEY', 'DIAMOND', 'SWORD'], ['SWORD', 'MONKEY', 'DIAMOND', 'PARROT', 'DIAMOND', 'SWORD', 'DIAMOND', 'SWORD'], ['PARROT', 'PARROT', 'DIAMOND', 'DIAMOND', 'SKULL', 'COIN', 'PARROT', 'SWORD']]\n",
      "round score 0\n",
      "avg score: %.2f 311.0\n"
     ]
    },
    {
     "data": {
      "image/png": "[encoded data removed]",
      "text/plain": [
       "<Figure size 432x288 with 1 Axes>"
      ]
     },
     "metadata": {},
     "output_type": "display_data"
    }
   ],
   "source": [
    "class Player_Turn():\n",
    "    def __init__(self, game, player_idx, verbose=False):\n",
    "        self.game = game\n",
    "        self.player = game.players[player_idx]\n",
    "        self.card = game.get_card_from_deck()\n",
    "        self.rolls = 0\n",
    "        self._skull_rerolls_remaining = self.get_allowed_skull_rerolls()\n",
    "        self._skulls_to_end_of_turn = 3\n",
    "        self._verbose = verbose\n",
    "        \n",
    "        self.dice_history = []\n",
    "        \n",
    "    def get_allowed_skull_rerolls(self):\n",
    "        if (self.card == Card_Values.SORCERESS):\n",
    "            return 1\n",
    "        \n",
    "        return 0\n",
    "    \n",
    "    #i.e. with card\n",
    "    def get_effective_dice_values(self):        \n",
    "        return self.game.dices.get_current() + Cards().to_dice_array(self.card)\n",
    "            \n",
    "    def has_turn_ended(self):\n",
    "        dice_values = self.get_effective_dice_values()\n",
    "        dice_counts = collections.Counter(dice_values)\n",
    "        \n",
    "        if (dice_counts.get(Dice_Values.SKULL, 0) - self._skull_rerolls_remaining > self._skulls_to_end_of_turn):\n",
    "            return True\n",
    "        \n",
    "        return False\n",
    "        \n",
    "    def count_reroll_skulls(self, to_reroll):\n",
    "        dices = [x for i,x in enumerate(self.game.dices.get_current()) if i in to_reroll]\n",
    "        return (collections.Counter(dices)).get(Dice_Values.SKULL, 0)\n",
    "    \n",
    "    #ToDo\n",
    "    def is_valid_reroll(self, to_reroll):\n",
    "        if ((to_reroll is None) or (len(to_reroll) == 0)):\n",
    "            return True\n",
    "        \n",
    "        return ((len(to_reroll) != 1) and (self.count_reroll_skulls(to_reroll) <= self._skull_rerolls_remaining))\n",
    "    \n",
    "    def play(self):\n",
    "        self.game.dices.roll()\n",
    "        \n",
    "        self.dice_history.append(self.game.dices.get_current_as_str())\n",
    "        if (self._verbose):\n",
    "            print(\"dice=%s\" % (self.game.dices.get_current_as_str()))\n",
    "        \n",
    "        #ToDo: handle island-of-the-dead\n",
    "        turn_ended = self.has_turn_ended()\n",
    "        \n",
    "        while (not turn_ended):\n",
    "            if (self._verbose):\n",
    "                print('dbg: roll %d' % (self.rolls))\n",
    "            game_state = Game_State(self.game.dices.get_current(), self.card)\n",
    "            to_reroll = self.player.get_dices_to_roll(game_state)\n",
    "            \n",
    "            if ((to_reroll is None) or (len(to_reroll) == 0)):\n",
    "                if (self._verbose):\n",
    "                    print('dbg: endo of turn by player')\n",
    "                turn_ended = True\n",
    "            if (self.is_valid_reroll(to_reroll)):\n",
    "                self.game.dices.roll(to_reroll)\n",
    "                self.dice_history.append(self.game.dices.get_current_as_str())\n",
    "                if (self._verbose):\n",
    "                    print(\"reroll=%s, dice=%s\" % (str(to_reroll), self.game.dices.get_current_as_str()))\n",
    "                self.rolls += 1\n",
    "            else:\n",
    "                if (self._verbose):\n",
    "                    print('dbg: error: invalid request to reroll (%s), ending turn' % (str(to_reroll)))\n",
    "                turn_ended = True\n",
    "                \n",
    "        #turn ended\n",
    "        score = Scoring(self.game.dices.get_current(), self.card).score()\n",
    "        \n",
    "        return score\n",
    "        \n",
    "    \n",
    "    def to_string(self):\n",
    "        return 'card=%s, rolls = %d, history=%s' % (self.card.name, self.rolls, self.dice_history)\n",
    "        \n",
    "g = Game()\n",
    "# p = Random_Player()\n",
    "trn = Player_Turn(g, 0)\n",
    "score = trn.play()\n",
    "# print(trn.dice_history)\n",
    "print(trn.to_string())\n",
    "print(\"round score %d\" % (score))\n",
    "\n",
    "all_scores = []\n",
    "for i in range(200):\n",
    "    g = Game()\n",
    "    # p = Random_Player()\n",
    "    trn = Player_Turn(g, 0)\n",
    "    score = trn.play()\n",
    "    all_scores.append(score)\n",
    "\n",
    "binwidth = 200\n",
    "p = plt.hist(all_scores, bins=np.arange(min(all_scores), max(all_scores) + binwidth, binwidth))\n",
    "print('avg score: %.2f', np.average(all_scores))\n",
    "\n",
    "    \n",
    "\n",
    "        "
   ]
  },
  {
   "cell_type": "code",
   "execution_count": 21,
   "metadata": {},
   "outputs": [
    {
     "name": "stdout",
     "output_type": "stream",
     "text": [
      "avg score: %.2f 457.75\n"
     ]
    },
    {
     "data": {
      "image/png": "[encoded data removed]",
      "text/plain": [
       "<Figure size 432x288 with 1 Axes>"
      ]
     },
     "metadata": {},
     "output_type": "display_data"
    }
   ],
   "source": [
    "for i in range(200):\n",
    "    g = Game(player_type='basic')\n",
    "    # p = Random_Player()\n",
    "    trn = Player_Turn(g, 0)\n",
    "    score = trn.play()\n",
    "    all_scores.append(score)\n",
    "    \n",
    "p = plt.hist(all_scores, bins=np.arange(min(all_scores), max(all_scores) + binwidth, binwidth))\n",
    "print('avg score: %.2f', np.average(all_scores))\n"
   ]
  },
  {
   "cell_type": "code",
   "execution_count": 11,
   "metadata": {},
   "outputs": [
    {
     "data": {
      "text/plain": [
       "<__main__.Player_Turn at 0x7f9409a53080>"
      ]
     },
     "execution_count": 11,
     "metadata": {},
     "output_type": "execute_result"
    }
   ],
   "source": [
    "trn"
   ]
  },
  {
   "cell_type": "code",
   "execution_count": 12,
   "metadata": {},
   "outputs": [
    {
     "data": {
      "text/plain": [
       "['PARROT', 'SKULL', 'SWORD', 'DIAMOND', 'SKULL', 'SKULL', 'PARROT', 'MONKEY']"
      ]
     },
     "execution_count": 12,
     "metadata": {},
     "output_type": "execute_result"
    }
   ],
   "source": [
    "d.roll().get_current_as_str()"
   ]
  },
  {
   "cell_type": "code",
   "execution_count": 13,
   "metadata": {},
   "outputs": [
    {
     "data": {
      "text/plain": [
       "'turns: 0, scores: [0, 0]'"
      ]
     },
     "execution_count": 13,
     "metadata": {},
     "output_type": "execute_result"
    }
   ],
   "source": [
    "g = Game()\n",
    "g.to_string()"
   ]
  },
  {
   "cell_type": "code",
   "execution_count": null,
   "metadata": {
    "collapsed": true
   },
   "outputs": [],
   "source": []
  },
  {
   "cell_type": "code",
   "execution_count": null,
   "metadata": {
    "collapsed": true
   },
   "outputs": [],
   "source": []
  }
 ],
 "metadata": {
  "kernelspec": {
   "display_name": "Python 3",
   "language": "python",
   "name": "python3"
  },
  "language_info": {
   "codemirror_mode": {
    "name": "ipython",
    "version": 3
   },
   "file_extension": ".py",
   "mimetype": "text/x-python",
   "name": "python",
   "nbconvert_exporter": "python",
   "pygments_lexer": "ipython3",
   "version": "3.5.3"
  }
 },
 "nbformat": 4,
 "nbformat_minor": 2
}
